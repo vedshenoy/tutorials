{
 "cells": [
  {
   "cell_type": "markdown",
   "metadata": {},
   "source": [
    "# Astropy Quantities\n",
    "\n",
    "In astronomy (and most sciences) we typically have to deal with quantities which have some dimension (i.e. unit). The quantity is completely represented by not only a number but also a unit to go alongwith it. When we consider the same quantity in a different unit system, the quantity itself will not change, although the number used to represent it does change. While solving involved problems with several dimensional quantities, it may become cumbersome to keep track of the quantity if our program stores it as a single number with implied unit. Astropy units library is a useful way to keep track of a dimensional quantity "
   ]
  },
  {
   "cell_type": "code",
   "execution_count": 4,
   "metadata": {},
   "outputs": [],
   "source": [
    "import numpy as np\n",
    "from astropy import units as u \n",
    "#The first step as usual is to import the required packages"
   ]
  },
  {
   "cell_type": "markdown",
   "metadata": {},
   "source": [
    "We can initialise a dimensional quantity as follows"
   ]
  },
  {
   "cell_type": "code",
   "execution_count": 5,
   "metadata": {},
   "outputs": [],
   "source": [
    "q = 42.0 * u.m \n",
    "lengths = [1,2,3]*u.m"
   ]
  },
  {
   "cell_type": "markdown",
   "metadata": {},
   "source": [
    "We can access the numerical and unit part of q as follows"
   ]
  },
  {
   "cell_type": "code",
   "execution_count": 6,
   "metadata": {},
   "outputs": [
    {
     "name": "stdout",
     "output_type": "stream",
     "text": [
      "42.0 m\n",
      "[1. 2. 3.] m\n",
      "1.0 m\n"
     ]
    }
   ],
   "source": [
    "print(q.value,q.unit) #Ofcourse, we can use q.value with any other command also\n",
    "\n",
    "print(lengths.value,q.unit)\n",
    "print(lengths[0].value , lengths[0].unit)\n"
   ]
  },
  {
   "cell_type": "markdown",
   "metadata": {},
   "source": [
    "We can multiply or divide quantities having different units but not add/subtract. Ofcourse, quantities with same unit can be added as usual. Trying to add incompatible quantities will give unit conversion error"
   ]
  },
  {
   "cell_type": "code",
   "execution_count": 7,
   "metadata": {},
   "outputs": [],
   "source": [
    "distance2 =45 * u.m\n",
    "distance1 =5*u.m\n",
    "time = 2 * u.s"
   ]
  },
  {
   "cell_type": "code",
   "execution_count": 8,
   "metadata": {},
   "outputs": [
    {
     "name": "stdout",
     "output_type": "stream",
     "text": [
      "20.0 m / s\n"
     ]
    }
   ],
   "source": [
    "speed = (distance2 - distance1)/time\n",
    "print(speed)"
   ]
  },
  {
   "cell_type": "markdown",
   "metadata": {},
   "source": [
    "We can also use units library to interconvert between different unit systems using the to() method. Note that after calling this method, the value stored in quantity.value and quantity.unit don't change. Another method for converting to cgs/SI is also shown below."
   ]
  },
  {
   "cell_type": "code",
   "execution_count": 9,
   "metadata": {},
   "outputs": [
    {
     "name": "stdout",
     "output_type": "stream",
     "text": [
      "72.0 km / h\n",
      "20.0\n",
      "m / s\n",
      "10000000.0 erg\n",
      "0.1 m\n"
     ]
    }
   ],
   "source": [
    "print(speed.to(u.km/u.hour))\n",
    "print(speed.value)\n",
    "print(speed.unit)\n",
    "print((1*u.Joule).cgs)\n",
    "print((10*u.cm).si)"
   ]
  },
  {
   "cell_type": "markdown",
   "metadata": {},
   "source": [
    "We can also define new suitable units as required."
   ]
  },
  {
   "cell_type": "code",
   "execution_count": 10,
   "metadata": {},
   "outputs": [
    {
     "name": "stdout",
     "output_type": "stream",
     "text": [
      "44.73872584108805 mi / h\n"
     ]
    }
   ],
   "source": [
    "mph = u.imperial.mile/u.hour #astropy.units.imperial is the module for fps units\n",
    "print(speed.to(mph))"
   ]
  },
  {
   "cell_type": "markdown",
   "metadata": {},
   "source": [
    "A special type of unit in the astropy.units package is the dimensionless quantity. This can either be initialised directly or come out from units cancelling out."
   ]
  },
  {
   "cell_type": "code",
   "execution_count": 11,
   "metadata": {
    "scrolled": true
   },
   "outputs": [
    {
     "name": "stdout",
     "output_type": "stream",
     "text": [
      "1.5 \n",
      "0.5 \n",
      "0.5 km / m\n",
      "True\n",
      "False\n"
     ]
    }
   ],
   "source": [
    "refractive_index = 1.5 *u.dimensionless_unscaled\n",
    "print(refractive_index.value,refractive_index.unit) #No unit is printed, as the quantity is dimensionless\n",
    "\n",
    "distance_ratio1 = (1*u.m)/(2*u.m)\n",
    "print(distance_ratio1.value,distance_ratio1.unit)#This is a true unscaled dimensionless quantity\n",
    "\n",
    "distance_ratio2 = (1*u.km)/(2*u.m)\n",
    "print(distance_ratio2.value,distance_ratio2.unit)#This is also dimensionless, but value is scaled\n",
    "\n",
    "print(distance_ratio1.unit == refractive_index.unit)#both are dimensionless unscaled\n",
    "print(distance_ratio1.unit == distance_ratio2.unit)#both are dimensionless, but one is scaled, the other is not"
   ]
  },
  {
   "cell_type": "markdown",
   "metadata": {},
   "source": [
    "Ofcourse, astropy being 'astro'py, does support usual astronomical units like parsecs, solar masses, AU etc"
   ]
  },
  {
   "cell_type": "code",
   "execution_count": 12,
   "metadata": {},
   "outputs": [
    {
     "name": "stdout",
     "output_type": "stream",
     "text": [
      "1.0 pc / AU\n",
      "206264.8062454803\n",
      "1409.8262953659105 kg / m3\n"
     ]
    }
   ],
   "source": [
    "r = 1*u.AU\n",
    "d = 1*u.parsec\n",
    "print(d/r)\n",
    "print(float(d/r)) #Notice how the float method is used to convert dimensionless scaled quatities to numbers\n",
    "                  #The float method will not work with quantities having some dimension\n",
    "\n",
    "AvgDensity_of_sun = 1*u.Msun/(4*np.pi/3*(1*u.Rsun)**3)\n",
    "print(AvgDensity_of_sun.to(u.kg/u.m**3)) #Side note: note how this quite close to density of water"
   ]
  },
  {
   "cell_type": "markdown",
   "metadata": {},
   "source": [
    "The last remark to make about astropy is that it can also do 'implicit' conversions, like converting wavelength of light to frequency (in vacuum), by specifying the equivalencies parameter"
   ]
  },
  {
   "cell_type": "code",
   "execution_count": 13,
   "metadata": {},
   "outputs": [
    {
     "name": "stdout",
     "output_type": "stream",
     "text": [
      "299792457999999.94 Hz\n"
     ]
    }
   ],
   "source": [
    "print((1000 * u.nm).to(u.Hz, equivalencies=u.spectral()))  "
   ]
  },
  {
   "cell_type": "markdown",
   "metadata": {},
   "source": [
    "# Filters in Astronomy\n",
    "Astronomers often use various filters for taking images. These filters selectively allow light of certain wavelengths to pass through them while rejecting others. Several filter systems are in use, and the filters used for a certain observation are usually specifiedd along with the observation data. Here, we will take up a specific filter system, SDSS (Sloan Digital Sky Survey). In general the analysis of any other filter system will also be similar. In this excersise, we will model a star as a perfect blackbody and try to find the intensity detected in each filter.\n",
    "\n",
    "Recall that Planck's formula for the black body spectrum is given by:\n",
    "$$B(\\lambda,T) = \\frac{2\\pi hc^2}{\\lambda^5}\\left(\\frac{1}{exp\\left(\\frac{hc}{\\lambda k_BT}\\right)-1}\\right)$$\n",
    "$h$ is the planck's constant, $c$ is the speed of light and $k_B$ is Boltzman constant. $\\lambda$ and $T$ represent the wavelength at which $B$ is measured and temperature of blackbody, respectivley. \n",
    "\n",
    "$B(\\lambda,T)d\\lambda$ gives the  energy emitted per unit time per unit area of blackbody in the form of light having wavelengths within a wavelength interval of (small) width $d\\lambda$ centred at said $\\lambda$. We will first write a function that returns B with its proper unit (which is $Wm^{-3}$)"
   ]
  },
  {
   "cell_type": "code",
   "execution_count": 14,
   "metadata": {},
   "outputs": [],
   "source": [
    "import numpy as np\n",
    "import matplotlib.pyplot as plt\n",
    "from astropy import constants as const #The constants package is a prebuilt package from astropy containing\n",
    "                                       #all usual physical constants. They are prebuilt with their units"
   ]
  },
  {
   "cell_type": "code",
   "execution_count": 15,
   "metadata": {
    "scrolled": true
   },
   "outputs": [
    {
     "name": "stdout",
     "output_type": "stream",
     "text": [
      "  Name   = Planck constant\n",
      "  Value  = 6.62607004e-34\n",
      "  Uncertainty  = 8.1e-42\n",
      "  Unit  = J s\n",
      "  Reference = CODATA 2014\n"
     ]
    }
   ],
   "source": [
    "h = const.h\n",
    "print(h)"
   ]
  },
  {
   "cell_type": "markdown",
   "metadata": {},
   "source": [
    "The complete list of constants available in astropy is available at https://docs.astropy.org/en/stable/constants/"
   ]
  },
  {
   "cell_type": "code",
   "execution_count": 16,
   "metadata": {
    "scrolled": true
   },
   "outputs": [],
   "source": [
    "c = const.c\n",
    "kB = const.k_B"
   ]
  },
  {
   "cell_type": "code",
   "execution_count": 17,
   "metadata": {},
   "outputs": [],
   "source": [
    "def B(wl,T): #lambda is a reserved keyword in python, so wavelength is assigned variable wl\n",
    "    exponential = 1/(np.exp(h*c/(wl*kB*T))-1)\n",
    "    prefactor = 2*np.pi*h*c*c/wl**5\n",
    "    return prefactor*exponential"
   ]
  },
  {
   "cell_type": "code",
   "execution_count": 18,
   "metadata": {
    "scrolled": false
   },
   "outputs": [
    {
     "data": {
      "image/png": "[encoded data removed]",
      "text/plain": [
       "<Figure size 640x480 with 1 Axes>"
      ]
     },
     "metadata": {},
     "output_type": "display_data"
    }
   ],
   "source": [
    "plt.style.use('default')\n",
    "wl0 = np.linspace(100,10000,1000000)*u.nm\n",
    "T0 = 5000 *u.K\n",
    "plt.xscale('log')\n",
    "plt.xlabel('wavelength in nm')\n",
    "plt.ylabel('$B_\\lambda$')\n",
    "plt.plot(wl0.value,B(wl0,T0).value)\n",
    "plt.show()"
   ]
  },
  {
   "cell_type": "markdown",
   "metadata": {},
   "source": [
    "The next step is find out the filter response as a function of wavelength. For most standard filters, these are readily available from appropriate sources, as measured experimentally by some astronomer. For our purpose, we will be using the SDSS filters, and in particular ,the data from Jim Gunn,2001 (available from the SDSS website as a fits file, has been already included in the folder with this notebook)"
   ]
  },
  {
   "cell_type": "code",
   "execution_count": 19,
   "metadata": {},
   "outputs": [],
   "source": [
    "from astropy.io import fits"
   ]
  },
  {
   "cell_type": "code",
   "execution_count": 20,
   "metadata": {},
   "outputs": [
    {
     "name": "stdout",
     "output_type": "stream",
     "text": [
      "Filename: filter_curves.fits\n",
      "No.    Name      Ver    Type      Cards   Dimensions   Format\n",
      "  0  PRIMARY       1 PrimaryHDU      63   ()      \n",
      "  1  U             1 BinTableHDU     20   47R x 5C   [E, E, E, E, E]   \n",
      "  2  G             1 BinTableHDU     20   89R x 5C   [E, E, E, E, E]   \n",
      "  3  R             1 BinTableHDU     20   75R x 5C   [E, E, E, E, E]   \n",
      "  4  I             1 BinTableHDU     20   89R x 5C   [E, E, E, E, E]   \n",
      "  5  Z             1 BinTableHDU     20   141R x 5C   [E, E, E, E, E]   \n"
     ]
    }
   ],
   "source": [
    "SDSS_filter = fits.open('filter_curves.fits')\n",
    "SDSS_filter.info()"
   ]
  },
  {
   "cell_type": "markdown",
   "metadata": {},
   "source": [
    "As you can see, the primary HDU is empty, since there is no image and only filled HDUs are the binary table HDUs corresponding to the five filters U/G/R/I/Z(ultraviolet/green/red/infrared/longer than infrared). We can see that each HDU contains 5 columns, and we can find out what they represent by looking at the headers"
   ]
  },
  {
   "cell_type": "code",
   "execution_count": 21,
   "metadata": {},
   "outputs": [
    {
     "data": {
      "text/plain": [
       "XTENSION= 'BINTABLE'           / binary table extension                         \n",
       "BITPIX  =                    8 / array data type                                \n",
       "NAXIS   =                    2 / number of array dimensions                     \n",
       "NAXIS1  =                   20 / length of dimension 1                          \n",
       "NAXIS2  =                   47 / length of dimension 2                          \n",
       "PCOUNT  =                    0 / number of group parameters                     \n",
       "GCOUNT  =                    1 / number of groups                               \n",
       "TFIELDS =                    5 / number of table fields                         \n",
       "TTYPE1  = 'wavelength'                                                          \n",
       "TFORM1  = 'E       '                                                            \n",
       "TUNIT1  = 'angstrom'                                                            \n",
       "TTYPE2  = 'respt   '                                                            \n",
       "TFORM2  = 'E       '                                                            \n",
       "TTYPE3  = 'resbig  '                                                            \n",
       "TFORM3  = 'E       '                                                            \n",
       "TTYPE4  = 'resnoa  '                                                            \n",
       "TFORM4  = 'E       '                                                            \n",
       "TTYPE5  = 'xatm    '                                                            \n",
       "TFORM5  = 'E       '                                                            \n",
       "EXTNAME = 'U       '           / extension name                                 "
      ]
     },
     "execution_count": 21,
     "metadata": {},
     "output_type": "execute_result"
    }
   ],
   "source": [
    "SDSS_filter[1].header"
   ]
  },
  {
   "cell_type": "markdown",
   "metadata": {},
   "source": [
    "As we can see, the first column is the wavelength in Angstroms and the further columns give the transparency of the filter at said wavelength, under various conditions. 'respt' is the quantum efficiency after going through 1.3 airmasses (i.e atmospheric scattering) while 'resbig' is the quantum efficiency including some infrared scattering effects, mainly applicable for extended objects (>80 pixels).'resnoa' is quantum efficiency with no atmosphere and last column represents assumed atmospheric transparency as a function of atmosphere. For our purposes, we will be using mainly the 'respt' column. "
   ]
  },
  {
   "cell_type": "code",
   "execution_count": 22,
   "metadata": {},
   "outputs": [],
   "source": [
    "U = SDSS_filter[1].data\n",
    "G = SDSS_filter[2].data\n",
    "R = SDSS_filter[3].data\n",
    "I = SDSS_filter[4].data\n",
    "Z = SDSS_filter[5].data"
   ]
  },
  {
   "cell_type": "code",
   "execution_count": 23,
   "metadata": {
    "scrolled": false
   },
   "outputs": [
    {
     "data": {
      "image/png": "[encoded data removed]",
      "text/plain": [
       "<Figure size 640x480 with 1 Axes>"
      ]
     },
     "metadata": {},
     "output_type": "display_data"
    }
   ],
   "source": [
    "plt.plot(U.field(0),U.field(1),color='blue') #the 'field' attribute of binary data HDU is used to access it by column\n",
    "plt.plot(G.field(0),G.field(1),color='green')\n",
    "plt.plot(R.field(0),R.field(1),color='r')\n",
    "plt.plot(I.field(0),I.field(1),color='black')\n",
    "plt.plot(Z.field(0),Z.field(1),color='magenta')\n",
    "plt.ylabel('quantum efficiency')\n",
    "plt.xlabel('wavelength in angstrom')\n",
    "plt.show()"
   ]
  },
  {
   "cell_type": "markdown",
   "metadata": {},
   "source": [
    "The intensity of light observed in a certain filter is simply the integral of the product of $B(\\lambda,T)$ and quantum efficiency profile of said filter, corrected for distance, integrated over all wavelengths. \n",
    "$$I_{net} = \\frac{r^2}{d^2}\\int_0^\\infty B(\\lambda,T) q(\\lambda) d\\lambda$$\n",
    "where $q(\\lambda)$ is the quantum efficiency, i.e fraction of photons that are let through where r is radius of the star, d is our distance from it and T is its temperature.\n",
    "\n",
    "We will now try to calculate the intensity of the sun, as calculated in G filter, as an example"
   ]
  },
  {
   "cell_type": "code",
   "execution_count": 24,
   "metadata": {},
   "outputs": [],
   "source": [
    "wavelengths = G.field(0)*u.AA\n",
    "qG = G.field(1)\n",
    "Tsirius = 9940 * u.K\n",
    "r_sirius = 1.711*u.Rsun\n",
    "d_sirius = 2.64 * u.pc "
   ]
  },
  {
   "cell_type": "code",
   "execution_count": 25,
   "metadata": {},
   "outputs": [
    {
     "name": "stdout",
     "output_type": "stream",
     "text": [
      "7.0242139691731335e-09 W / m2\n"
     ]
    }
   ],
   "source": [
    "#We will estimate the integral by trapezoidal rule\n",
    "integral = 0*u.W/u.m**2\n",
    "i = 1\n",
    "while i < len(wavelengths):\n",
    "    integral += B((wavelengths[i-1]+wavelengths[i])/2 , Tsirius)*(qG[i-1]+qG[i])/2*(wavelengths[i]-wavelengths[i-1])\n",
    "    i = i + 1\n",
    "intensity = integral*(r_sirius/d_sirius)**2\n",
    "print(intensity.to(u.W/u.m**2))"
   ]
  },
  {
   "cell_type": "markdown",
   "metadata": {},
   "source": [
    "## Your task...\n",
    "...should you accept it, is as follows:\n",
    "\n",
    "Arcturus is one of the prominent stars from the Bootes constellation. An astronomer measures the intensity of Arcturus in the G and R filters of SDSS system and obtains the values of intensity as in the below cell. Estimate the temperature of Arcturus to within $\\pm 50K$. You may assume that Arcturus behaves like a perfect blackbody (deviations from this assumption will be discussed in the next tutorial). The information provided below is sufficient for solving this question and no additional information (such as radius of Arcturus) is required."
   ]
  },
  {
   "cell_type": "code",
   "execution_count": 26,
   "metadata": {},
   "outputs": [],
   "source": [
    "intensity_G = 1.3887e-09 * (u.W / u.m**2)\n",
    "intensity_R = 2.5553e-09 * (u.W / u.m**2)"
   ]
  },
  {
   "cell_type": "markdown",
   "metadata": {},
   "source": [
    "# Solution\n",
    "The first step is to notice that although the values of G and R intensities will depend on the distance to Arcturus and the radius of Arcturus, their ratio will depend only on temperature"
   ]
  },
  {
   "cell_type": "code",
   "execution_count": 27,
   "metadata": {},
   "outputs": [
    {
     "name": "stdout",
     "output_type": "stream",
     "text": [
      "0.5434586936954565\n"
     ]
    }
   ],
   "source": [
    "ratio_arcturus = intensity_G/intensity_R\n",
    "print(ratio_arcturus)"
   ]
  },
  {
   "cell_type": "markdown",
   "metadata": {},
   "source": [
    "The next step is to write a function that returns this ratio for a specified temperature value"
   ]
  },
  {
   "cell_type": "code",
   "execution_count": 28,
   "metadata": {},
   "outputs": [],
   "source": [
    "wlG = G.field(0)*u.AA\n",
    "qG = G.field(1)\n",
    "wlR = R.field(0)*u.AA\n",
    "qR = R.field(1)"
   ]
  },
  {
   "cell_type": "code",
   "execution_count": 29,
   "metadata": {},
   "outputs": [],
   "source": [
    "def G_R_ratio(T):\n",
    "    integral_G = 0*u.W/u.m**2\n",
    "    integral_R = 0*u.W/u.m**2\n",
    "    i = 1\n",
    "    while i < len(wlR):\n",
    "        integral_R += B((wlR[i-1]+wlR[i])/2 , T)*(qR[i-1]+qR[i])/2*(wlR[i]-wlR[i-1])\n",
    "        i = i + 1\n",
    "    j = 1\n",
    "    while j < len(wlG):\n",
    "        integral_G += B((wlG[j-1]+wlG[j])/2 , T)*(qG[j-1]+qG[j])/2*(wlG[j]-wlG[j-1])\n",
    "        j = j + 1\n",
    "    return (integral_G/integral_R)"
   ]
  },
  {
   "cell_type": "markdown",
   "metadata": {},
   "source": [
    "We can verify that our function is correct by plotting a graph. (We could have indeed skipped this step. But doing it provides a way to check if everything is OK and, if not, gives some insight on how to debug.)"
   ]
  },
  {
   "cell_type": "code",
   "execution_count": 32,
   "metadata": {},
   "outputs": [
    {
     "data": {
      "image/png": "[encoded data removed]",
      "text/plain": [
       "<Figure size 640x480 with 1 Axes>"
      ]
     },
     "metadata": {},
     "output_type": "display_data"
    }
   ],
   "source": [
    "Temps = np.arange(500,10000,100)*u.K\n",
    "GR = []\n",
    "for t in Temps:\n",
    "    GR.append(G_R_ratio(t))\n",
    "plt.plot(Temps.value,GR)\n",
    "plt.show()"
   ]
  },
  {
   "cell_type": "markdown",
   "metadata": {},
   "source": [
    "Next step is to start guessing. Clearly, Arcturus is a visible star, so its temperature should be more that 1000K. At the same time, we can also estimate (and hope) that its temperature will be below 10000K (if we do not find our solution in this interval, we can ofcourse try again with a larger interval.) We could have also made the estimates (infact, much tighter estimates) from the graph we drew above. Since allowed error is $\\pm50K$, we can start searching in steps of 100K (i.e 1000,1100,1200,...). Also, having plotted the above graph [luckily ;) with correct step size], we can use the data points we already generated for making the plot to finish the job, instead of generating them again."
   ]
  },
  {
   "cell_type": "code",
   "execution_count": null,
   "metadata": {},
   "outputs": [],
   "source": [
    "difference = np.abs(GR - ratio_arcturus)\n",
    "minimum = min(difference) #index method does not work here since difference is also a quantity object, which has no index \n",
    "i = 0\n",
    "while i < len(difference):\n",
    "    if difference[i] == minimum:\n",
    "        break\n",
    "    i+=1\n",
    "T_arcturus = Temps[i]\n",
    "print(T_arcturus"
   ]
  },
  {
   "cell_type": "markdown",
   "metadata": {},
   "source": [
    "As a parting remark, it is worth mentioning that scipy.optimize.root() function could also have been used to solve this problem, but it is not required here, and the fact that our estimate is not exact is also fine, since the data we have itself is not very reliable"
   ]
  }
 ],
 "metadata": {
  "kernelspec": {
   "display_name": "Python 3",
   "language": "python",
   "name": "python3"
  },
  "language_info": {
   "codemirror_mode": {
    "name": "ipython",
    "version": 3
   },
   "file_extension": ".py",
   "mimetype": "text/x-python",
   "name": "python",
   "nbconvert_exporter": "python",
   "pygments_lexer": "ipython3",
   "version": "3.7.3"
  }
 },
 "nbformat": 4,
 "nbformat_minor": 2
}
